{
 "cells": [
  {
   "cell_type": "markdown",
   "metadata": {},
   "source": [
    "First we need to import all of our data."
   ]
  },
  {
   "cell_type": "code",
   "execution_count": 56,
   "metadata": {},
   "outputs": [],
   "source": [
    "import numpy as np\n",
    "import pandas as pd\n",
    "import os\n",
    "from sklearn.model_selection import StratifiedShuffleSplit\n",
    "import matplotlib.pyplot as plt\n",
    "from sklearn.ensemble import RandomForestClassifier\n",
    "\n",
    "# Read in the data\n",
    "conditionData = []\n",
    "controlData = []\n",
    "scores = pd.read_csv(\"data/scores.csv\")\n",
    "\n",
    "for fileName in os.listdir(\"data/condition\"):\n",
    "\tconditionData.append(pd.read_csv(f\"data/condition/{fileName}\"))\n",
    "for fileName in os.listdir(f\"data/control\"):\n",
    "\tcontrolData.append(pd.read_csv(f\"data/control/{fileName}\"))\n"
   ]
  },
  {
   "cell_type": "markdown",
   "metadata": {},
   "source": [
    "Now we need to combine our motor activity in one file with the labels indicating if it is a condition or control"
   ]
  },
  {
   "cell_type": "code",
   "execution_count": 57,
   "metadata": {},
   "outputs": [],
   "source": [
    "df = pd.DataFrame(columns=[\"Activity\", \"TimeStamp\", \"Target\"])\n",
    "for data in conditionData:\n",
    "\tactivity = data.activity\n",
    "\tactivity = np.array(activity)\n",
    "\ttime = data.timestamp\n",
    "\ttime = np.array(time)\n",
    "\ttemp = {'Activity': activity, 'TimeStamp': time, 'Target': \"condition\"}\n",
    "\tdfTemp = pd.DataFrame(temp)\n",
    "\tdf = pd.concat([df, dfTemp])\n",
    "\n",
    "for data in controlData:\n",
    "\tactivity = data.activity\n",
    "\tactivity = np.array(activity)\n",
    "\ttime = data.timestamp\n",
    "\ttime = np.array(time)\n",
    "\ttemp = {'Activity': activity, 'TimeStamp': time, 'Target': \"control\"}\n",
    "\tdfTemp = pd.DataFrame(temp)\n",
    "\tdf = pd.concat([df, dfTemp])\n"
   ]
  },
  {
   "cell_type": "markdown",
   "metadata": {},
   "source": [
    "Split our data into training/testing"
   ]
  },
  {
   "cell_type": "code",
   "execution_count": 61,
   "metadata": {},
   "outputs": [],
   "source": [
    "y = df.iloc[:,-1:]\n",
    "x = df.iloc[: , :-2]\n",
    "\n",
    "y = np.array(y)\n",
    "x = np.array(x)\n",
    "\n",
    "sss = StratifiedShuffleSplit(n_splits=1, test_size=0.3)\n",
    "sss.get_n_splits(x, y)\n",
    "for train_index, test_index in sss.split(x, y):\n",
    "    X_train, X_test = x[train_index], x[test_index]\n",
    "    y_train, y_test = y[train_index], y[test_index]\n"
   ]
  },
  {
   "cell_type": "markdown",
   "metadata": {},
   "source": [
    "### Showing a person's daily activity:\n",
    "\n",
    "What does the activity of a person look like over the time they participated in the experiment? We can pretty easily tell from the graphs below the times that a person was asleep. These times are characterized by log periods of really low activity levels. Additionally we can see peaks of activity that could show when a person exercised."
   ]
  },
  {
   "cell_type": "code",
   "execution_count": 59,
   "metadata": {},
   "outputs": [
    {
     "name": "stdout",
     "output_type": "stream",
     "text": [
      "Error: Could not find specified Start Time: 00:00:00\n",
      "Defaulting to beginning of test data\n"
     ]
    },
    {
     "ename": "TypeError",
     "evalue": "'int' object is not subscriptable",
     "output_type": "error",
     "traceback": [
      "\u001b[1;31m---------------------------------------------------------------------------\u001b[0m",
      "\u001b[1;31mTypeError\u001b[0m                                 Traceback (most recent call last)",
      "Cell \u001b[1;32mIn [59], line 29\u001b[0m\n\u001b[0;32m     25\u001b[0m     plt\u001b[39m.\u001b[39mshow()\n\u001b[0;32m     28\u001b[0m \u001b[39m# Graph activity for first Depressed individual\u001b[39;00m\n\u001b[1;32m---> 29\u001b[0m graph_person_activity(\u001b[39m0\u001b[39;49m, \u001b[39m24\u001b[39;49m, \u001b[39m\"\u001b[39;49m\u001b[39m00:00:00\u001b[39;49m\u001b[39m\"\u001b[39;49m)\n\u001b[0;32m     30\u001b[0m \u001b[39m# Graph Activity for first Control individual\u001b[39;00m\n\u001b[0;32m     31\u001b[0m graph_person_activity(\u001b[39m23\u001b[39m, \u001b[39m24\u001b[39m, \u001b[39m\"\u001b[39m\u001b[39m00:00:00\u001b[39m\u001b[39m\"\u001b[39m)\n",
      "Cell \u001b[1;32mIn [59], line 23\u001b[0m, in \u001b[0;36mgraph_person_activity\u001b[1;34m(person, hours_to_display, start_time_str)\u001b[0m\n\u001b[0;32m     21\u001b[0m \u001b[39m# Display the activity of the person in our Datase for the number of hours selected beginning at the first applicable start time.\u001b[39;00m\n\u001b[0;32m     22\u001b[0m plt\u001b[39m.\u001b[39mtitle(\u001b[39mf\u001b[39m\u001b[39m\"\u001b[39m\u001b[39mActivity graph for Depressed Person \u001b[39m\u001b[39m{\u001b[39;00mperson\u001b[39m}\u001b[39;00m\u001b[39m\"\u001b[39m \u001b[39mif\u001b[39;00m df\u001b[39m.\u001b[39mTarget\u001b[39m.\u001b[39mtolist()[person] \u001b[39m==\u001b[39m \u001b[39m'\u001b[39m\u001b[39mcondition\u001b[39m\u001b[39m'\u001b[39m \u001b[39melse\u001b[39;00m \u001b[39mf\u001b[39m\u001b[39m\"\u001b[39m\u001b[39mActivity graph for Undepressed Person \u001b[39m\u001b[39m{\u001b[39;00mperson\u001b[39m}\u001b[39;00m\u001b[39m\"\u001b[39m)\n\u001b[1;32m---> 23\u001b[0m plt\u001b[39m.\u001b[39mplot(df\u001b[39m.\u001b[39mTimeStamp\u001b[39m.\u001b[39mtolist()[person][beginIndex : beginIndex\u001b[39m+\u001b[39m(\u001b[39m60\u001b[39m\u001b[39m*\u001b[39mhours_to_display)], df\u001b[39m.\u001b[39;49mActivity\u001b[39m.\u001b[39;49mtolist()[person][beginIndex: beginIndex \u001b[39m+\u001b[39;49m (\u001b[39m60\u001b[39;49m\u001b[39m*\u001b[39;49mhours_to_display)])\n\u001b[0;32m     24\u001b[0m plt\u001b[39m.\u001b[39mxticks(np\u001b[39m.\u001b[39marange(\u001b[39m0\u001b[39m, (\u001b[39m60\u001b[39m\u001b[39m*\u001b[39mhours_to_display)\u001b[39m+\u001b[39m \u001b[39m1\u001b[39m, \u001b[39m60\u001b[39m), rotation\u001b[39m=\u001b[39m\u001b[39m30\u001b[39m, ha\u001b[39m=\u001b[39m\u001b[39m'\u001b[39m\u001b[39mright\u001b[39m\u001b[39m'\u001b[39m) \u001b[39m# set xticks to every hour instead of every minute\u001b[39;00m\n\u001b[0;32m     25\u001b[0m plt\u001b[39m.\u001b[39mshow()\n",
      "\u001b[1;31mTypeError\u001b[0m: 'int' object is not subscriptable"
     ]
    },
    {
     "data": {
      "image/png": "[encoded data removed]",
      "text/plain": [
       "<Figure size 2000x400 with 1 Axes>"
      ]
     },
     "metadata": {},
     "output_type": "display_data"
    }
   ],
   "source": [
    "\n",
    "from datetime import datetime\n",
    "\n",
    "def graph_person_activity(person, hours_to_display=24, start_time_str=\"\"):\n",
    "    f = plt.figure()\n",
    "    f.set_figwidth(20)\n",
    "    f.set_figheight(4)\n",
    "\n",
    "    # Find the first instance of the specified starttime to begin graphing our data\n",
    "    beginIndex = 0\n",
    "    if start_time_str != \"\":\n",
    "        c = 0\n",
    "        for timestamp in df.TimeStamp.tolist()[person]:\n",
    "            if timestamp.endswith(start_time_str):\n",
    "                beginIndex = c\n",
    "                break\n",
    "            c += 1\n",
    "        if c >= len(df.TimeStamp.tolist()[person]):\n",
    "            print(\"Error: Could not find specified Start Time: \" + start_time_str)\n",
    "            print(\"Defaulting to beginning of test data\")\n",
    "    \n",
    "    # Display the activity of the person in our Datase for the number of hours selected beginning at the first applicable start time.\n",
    "    plt.title(f\"Activity graph for Depressed Person {person}\" if df.Target.tolist()[person] == 'condition' else f\"Activity graph for Undepressed Person {person}\")\n",
    "    plt.plot(df.TimeStamp.tolist()[person][beginIndex : beginIndex+(60*hours_to_display)], df.Activity.tolist()[person][beginIndex: beginIndex + (60*hours_to_display)])\n",
    "    plt.xticks(np.arange(0, (60*hours_to_display)+ 1, 60), rotation=30, ha='right') # set xticks to every hour instead of every minute\n",
    "    plt.show()\n",
    "\n",
    "\n",
    "# Graph activity for first Depressed individual\n",
    "graph_person_activity(0, 24, \"00:00:00\")\n",
    "# Graph Activity for first Control individual\n",
    "graph_person_activity(23, 24, \"00:00:00\")\n"
   ]
  },
  {
   "cell_type": "markdown",
   "metadata": {},
   "source": [
    "### Use a Random Forest Classifier."
   ]
  },
  {
   "cell_type": "code",
   "execution_count": 62,
   "metadata": {},
   "outputs": [
    {
     "name": "stdout",
     "output_type": "stream",
     "text": [
      "0.6633192792548228\n"
     ]
    }
   ],
   "source": [
    "clf=RandomForestClassifier(n_estimators=10)\n",
    "clf.fit(X_train, y_train.ravel())\n",
    "accuracy = clf.score(X_test, y_test)\n",
    "print(accuracy)"
   ]
  },
  {
   "cell_type": "markdown",
   "metadata": {},
   "source": [
    "Our classifier isn't very good. Hits around 66% with a .3 split. We might want to clean the data a bit more or use a different classifier."
   ]
  },
  {
   "cell_type": "markdown",
   "metadata": {},
   "source": [
    "### Exercise and Classifying Depression\n",
    "\n",
    "Scientists have said that getting 30 minutes of Exercise each day is beneficial to mental health. We can get the sum of the highest consecutive 30 minutes every day to determine an 'Exercise Score' for each person each day they participated in the experiment."
   ]
  },
  {
   "cell_type": "code",
   "execution_count": null,
   "metadata": {},
   "outputs": [],
   "source": [
    "# take a persons total activity log and split into \"days\" or 24 hours\n",
    "# find max sum of 30 consecutive minutes and put that as a time series value. \n",
    "import math\n",
    "\n",
    "\n",
    "exerciseScores = []\n",
    "for person in df.Activity.tolist():\n",
    "    personScores = []\n",
    "    dayCount = len(person)//(24*60)\n",
    "    for i in range(0, dayCount): # for each day the person participated\n",
    "        maxActivity = -1\n",
    "        startOfDay = i * (24*60)\n",
    "        endOfDay = min(i * (24*60) + (24*60), len(person)-1)\n",
    "        for j in range(startOfDay, endOfDay- 30): # for each minute in the specific day. (except the last 30 minutes)\n",
    "            score = sum(person[j : j+30]) # Get the sum of the activity for the 30 minutes\n",
    "            if score > maxActivity: # if this is the max then save it as the max\n",
    "                maxActivity = score\n",
    "        personScores.append(maxActivity) # append Score to person scores\n",
    "    \n",
    "    exerciseScores.append(personScores) # append each person's score TS to the exercise scores\n",
    "\n",
    "# Clean up exercise scores by removing bad data. (Any data where the max activity for the entire day was less than 1000) \n",
    "# The reason we would get anything less than 1000 is if the person did not move at all through the whole day, or they \n",
    "# had a bad sensor.\n",
    "for p in exerciseScores:\n",
    "    trash = []\n",
    "    for s in p:\n",
    "        if s <= 1000:\n",
    "            trash.append(s)\n",
    "    for t in trash:\n",
    "        p.remove(t)\n",
    "\n",
    "minlen = min(len(i) for i in exerciseScores)\n",
    "# create a TS with mean, std, min, and max to make each have the same length\n",
    "exerciseStats = []\n",
    "for person in exerciseScores:\n",
    "\ttemp = [np.average(person), np.std(person), min(person), max(person)]\n",
    "\texerciseStats.append(temp)\n",
    "    \n"
   ]
  },
  {
   "cell_type": "code",
   "execution_count": null,
   "metadata": {},
   "outputs": [
    {
     "name": "stdout",
     "output_type": "stream",
     "text": [
      "Average Accuracy: 0.6494117647058824\n"
     ]
    }
   ],
   "source": [
    "y = np.array(y)\n",
    "x = np.array(exerciseStats)\n",
    "\n",
    "a = []\n",
    "for _ in range(100):\n",
    "    sss = StratifiedShuffleSplit(n_splits=1, test_size=0.3)\n",
    "    sss.get_n_splits(x, y)\n",
    "    for train_index, test_index in sss.split(x, y):\n",
    "        X_train, X_test = x[train_index], x[test_index]\n",
    "        y_train, y_test = y[train_index], y[test_index]\n",
    "\n",
    "\n",
    "    clf=RandomForestClassifier(n_estimators=10)\n",
    "    clf.fit(X_train, y_train.ravel())\n",
    "    accuracy = clf.score(X_test, y_test)\n",
    "    a.append(accuracy)\n",
    "print(\"Average Accuracy:\", np.average(a))"
   ]
  },
  {
   "cell_type": "markdown",
   "metadata": {},
   "source": [
    "Once again we see that we are getting an average classification accuracy of around 64-68%. This likely points out that exercising daily does not have too strong of a coorelation with depression. One can choose to not exercise and not be depressed."
   ]
  },
  {
   "cell_type": "markdown",
   "metadata": {},
   "source": [
    "### Sedentary Lifestyle and Depression\n",
    "\n",
    "Experts say that depressed patients often live sedentary lifestyles where they will not be active during the day. We can see this from a low number count over the time of day. We will use 10 as the threshold for our 'low number'."
   ]
  },
  {
   "cell_type": "markdown",
   "metadata": {},
   "source": [
    "### Sleep and Classifying Depression\n",
    "\n",
    "Experts have said getting 8 hours of restful sleep is essential to good mental health. We can give a rested score of the longest length of low activity for each day. Threshold for low activity will be 10. "
   ]
  }
 ],
 "metadata": {
  "kernelspec": {
   "display_name": "Python 3.10.0 64-bit",
   "language": "python",
   "name": "python3"
  },
  "language_info": {
   "codemirror_mode": {
    "name": "ipython",
    "version": 3
   },
   "file_extension": ".py",
   "mimetype": "text/x-python",
   "name": "python",
   "nbconvert_exporter": "python",
   "pygments_lexer": "ipython3",
   "version": "3.10.0"
  },
  "orig_nbformat": 4,
  "vscode": {
   "interpreter": {
    "hash": "443a06843225bba5fb5dcb311b234c0ad2973a039d9e18c6bbc6e17d70abcc8a"
   }
  }
 },
 "nbformat": 4,
 "nbformat_minor": 2
}
