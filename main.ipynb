{
 "cells": [
  {
   "cell_type": "markdown",
   "metadata": {},
   "source": [
    "First we need to import all of our data."
   ]
  },
  {
   "cell_type": "code",
   "execution_count": 150,
   "metadata": {},
   "outputs": [],
   "source": [
    "import numpy as np\n",
    "import pandas as pd\n",
    "import os\n",
    "from sklearn.model_selection import StratifiedShuffleSplit\n",
    "from sklearn.ensemble import RandomForestClassifier\n",
    "\n",
    "# Read in the data\n",
    "conditionData = []\n",
    "controlData = []\n",
    "scores = pd.read_csv(\"data/scores.csv\")\n",
    "\n",
    "for fileName in os.listdir(\"data/condition\"):\n",
    "\tconditionData.append(pd.read_csv(f\"data/condition/{fileName}\"))\n",
    "for fileName in os.listdir(f\"data/control\"):\n",
    "\tcontrolData.append(pd.read_csv(f\"data/control/{fileName}\"))"
   ]
  },
  {
   "cell_type": "markdown",
   "metadata": {},
   "source": [
    "Now we need to combine our motor activity in one file with the labels indicating if it is a condition or control"
   ]
  },
  {
   "cell_type": "code",
   "execution_count": 151,
   "metadata": {},
   "outputs": [],
   "source": [
    "df = pd.DataFrame(columns=[\"Activity\", \"Target\"])\n",
    "for data in conditionData:\n",
    "\tactivity = data.activity\n",
    "\tactivity = np.array(activity)\n",
    "\ttemp = {'Activity': activity, 'Target': \"condition\"}\n",
    "\tdfTemp = pd.DataFrame(temp)\n",
    "\tdf = pd.concat([df, dfTemp])\n",
    "\n",
    "for data in controlData:\n",
    "\tactivity = data.activity\n",
    "\tactivity = np.array(activity)\n",
    "\ttemp = {'Activity': activity, 'Target': \"control\"}\n",
    "\tdfTemp = pd.DataFrame(temp)\n",
    "\tdf = pd.concat([df, dfTemp])\n"
   ]
  },
  {
   "cell_type": "markdown",
   "metadata": {},
   "source": [
    "Split our data into training/testing"
   ]
  },
  {
   "cell_type": "code",
   "execution_count": 156,
   "metadata": {},
   "outputs": [],
   "source": [
    "y = df.iloc[:,-1:]\n",
    "x = df.iloc[: , :-1]\n",
    "\n",
    "y = np.array(y)\n",
    "x = np.array(x)\n",
    "\n",
    "sss = StratifiedShuffleSplit(n_splits=1, test_size=0.3)\n",
    "sss.get_n_splits(x, y)\n",
    "for train_index, test_index in sss.split(x, y):\n",
    "    X_train, X_test = x[train_index], x[test_index]\n",
    "    y_train, y_test = y[train_index], y[test_index]\n"
   ]
  },
  {
   "cell_type": "markdown",
   "metadata": {},
   "source": [
    "Use a Random Forest Classifier."
   ]
  },
  {
   "cell_type": "code",
   "execution_count": 157,
   "metadata": {},
   "outputs": [
    {
     "name": "stdout",
     "output_type": "stream",
     "text": [
      "0.6635250004241674\n"
     ]
    }
   ],
   "source": [
    "clf=RandomForestClassifier(n_estimators=10)\n",
    "clf.fit(X_train, y_train.ravel())\n",
    "accuracy = clf.score(X_test, y_test)\n",
    "print(accuracy)"
   ]
  },
  {
   "cell_type": "markdown",
   "metadata": {},
   "source": [
    "Our classifier isn't very good. Hits around 66% with a .3 split. We might want to clean the data a bit more or use a different classifier."
   ]
  }
 ],
 "metadata": {
  "kernelspec": {
   "display_name": "Python 3.10.1 64-bit",
   "language": "python",
   "name": "python3"
  },
  "language_info": {
   "codemirror_mode": {
    "name": "ipython",
    "version": 3
   },
   "file_extension": ".py",
   "mimetype": "text/x-python",
   "name": "python",
   "nbconvert_exporter": "python",
   "pygments_lexer": "ipython3",
   "version": "3.10.1"
  },
  "orig_nbformat": 4,
  "vscode": {
   "interpreter": {
    "hash": "1c06f7e97b29b1448158427c0f351629f079c23ae530d4f4a58a3724100da03c"
   }
  }
 },
 "nbformat": 4,
 "nbformat_minor": 2
}
