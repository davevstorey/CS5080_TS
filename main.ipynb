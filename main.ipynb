{
 "cells": [
  {
   "cell_type": "markdown",
   "metadata": {},
   "source": [
    "First we need to import all of our data."
   ]
  },
  {
   "cell_type": "code",
   "execution_count": 43,
   "metadata": {},
   "outputs": [],
   "source": [
    "import numpy as np\n",
    "import pandas as pd\n",
    "import os\n",
    "\n",
    "# Read in the data\n",
    "conditionData = []\n",
    "controlData = []\n",
    "scores = pd.read_csv(\"data/scores.csv\")\n",
    "\n",
    "for fileName in os.listdir(\"data/condition\"):\n",
    "\tconditionData.append(pd.read_csv(f\"data/condition/{fileName}\"))\n",
    "for fileName in os.listdir(f\"data/control\"):\n",
    "\tcontrolData.append(pd.read_csv(f\"data/control/{fileName}\"))"
   ]
  },
  {
   "cell_type": "markdown",
   "metadata": {},
   "source": [
    "Now we need to combine our motor activity in one file with the labels indicating if it is a condition or control"
   ]
  },
  {
   "cell_type": "code",
   "execution_count": 46,
   "metadata": {},
   "outputs": [
    {
     "name": "stdout",
     "output_type": "stream",
     "text": [
      "<class 'pandas.core.frame.DataFrame'>\n",
      "Int64Index: 55 entries, 0 to 0\n",
      "Data columns (total 2 columns):\n",
      " #   Column    Non-Null Count  Dtype \n",
      "---  ------    --------------  ----- \n",
      " 0   Activity  55 non-null     object\n",
      " 1   Target    55 non-null     object\n",
      "dtypes: object(2)\n",
      "memory usage: 1.3+ KB\n",
      "None\n"
     ]
    }
   ],
   "source": [
    "df = pd.DataFrame(columns=[\"Activity\", \"Target\"])\n",
    "for data in conditionData:\n",
    "\ttemp = {'Activity': [data.activity.tolist()], 'Target': \"condition\"}\n",
    "\tdfTemp = pd.DataFrame(temp)\n",
    "\tdf = pd.concat([df, dfTemp])\n",
    "\n",
    "for data in controlData:\n",
    "\ttemp = {'Activity': [data.activity.tolist()], 'Target': \"control\"}\n",
    "\tdfTemp = pd.DataFrame(temp)\n",
    "\tdf = pd.concat([df, dfTemp])\n",
    "print(df.info())"
   ]
  }
 ],
 "metadata": {
  "kernelspec": {
   "display_name": "Python 3.10.1 64-bit",
   "language": "python",
   "name": "python3"
  },
  "language_info": {
   "codemirror_mode": {
    "name": "ipython",
    "version": 3
   },
   "file_extension": ".py",
   "mimetype": "text/x-python",
   "name": "python",
   "nbconvert_exporter": "python",
   "pygments_lexer": "ipython3",
   "version": "3.10.1"
  },
  "orig_nbformat": 4,
  "vscode": {
   "interpreter": {
    "hash": "1c06f7e97b29b1448158427c0f351629f079c23ae530d4f4a58a3724100da03c"
   }
  }
 },
 "nbformat": 4,
 "nbformat_minor": 2
}
